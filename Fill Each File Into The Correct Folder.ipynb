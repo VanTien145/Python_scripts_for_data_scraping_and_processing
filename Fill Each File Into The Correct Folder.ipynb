{
 "cells": [
  {
   "cell_type": "code",
   "execution_count": 3,
   "metadata": {},
   "outputs": [
    {
     "name": "stdout",
     "output_type": "stream",
     "text": [
      "Đã di chuyển file AAA.xlsx đến thư mục rỗng là 1_AAA_Công ty cổ phần Nhựa An Phát Xanh\n",
      "Đã di chuyển file APP.xlsx đến thư mục rỗng là 2_APP_Công ty Cổ phần Phát triển Phụ gia và Sản phẩm dầu mỏ\n",
      "Đã di chuyển file BFC.xlsx đến thư mục rỗng là 3_BFC_Công ty Cổ phần Phân bón Bình Điền\n",
      "Đã di chuyển file BRC.xlsx đến thư mục rỗng là 4_BRC_Công ty Cổ phần Cao su Bến Thành\n",
      "Đã di chuyển file BRR.xlsx đến thư mục rỗng là 5_BRR_Công ty Cổ phần Cao su Bà Rịa\n"
     ]
    }
   ],
   "source": [
    "import os\n",
    "import shutil\n",
    "\n",
    "\n",
    "\n",
    "# Tạo đường dẫn đến thư mục chứa các file excel \n",
    "excel_files_path = r'D:\\Cào Data Cafef\\Ngành hóa chất - Copy\\Ngành hóa chất combine'\n",
    "\n",
    "# Tạo đường dẫn đến các folder rỗng\n",
    "empty_folder_path = r'D:\\Cào Data Cafef\\Ngành hóa chất - Copy\\Auto fill folder'\n",
    "\n",
    "\n",
    "# Lấy ra danh sách tên các file excel\n",
    "excel_file_name = [e for e in os.listdir(excel_files_path) if e.endswith('.xlsx')]\n",
    "\n",
    "\n",
    "# Lặp qua các folder rỗng để lấy tên\n",
    "for folder_name in os.listdir(empty_folder_path):\n",
    "\n",
    "    # Lấy dường dẫn tới folder rỗng\n",
    "    folder_path = os.path.join(empty_folder_path, folder_name)\n",
    "\n",
    "    if os.path.isdir(folder_path): # Kiểm tra xem có phải là thư mục hay ko\n",
    "\n",
    "        # Kiểm tra xem tên thư mục có trùng với tên file excel hay ko\n",
    "        for excel_file in excel_file_name:\n",
    "\n",
    "            e = excel_file.split('.')[0]\n",
    "            # Chỉ lấy mã folder name của mỗi cty\n",
    "            f = folder_name.split('_')[1]\n",
    "\n",
    "            if f == e:\n",
    "                # Hoặc if folder_name.split('_)[1] ==  os.path.splitext(excel_file)[0]\n",
    "                \n",
    "                # Tạo dường dẫn tới file excel\n",
    "                get_excel_files_path = os.path.join(excel_files_path, excel_file)\n",
    "\n",
    "                # Tạo đường dẫn mới cho file excel trong thư mục rỗng\n",
    "                new_excel_file_path = os.path.join(folder_path, excel_file)\n",
    "\n",
    "                # Di chuyển file excel vào thư mục rỗng\n",
    "                shutil.move(get_excel_files_path, new_excel_file_path)\n",
    "\n",
    "                print(f'Đã di chuyển file {excel_file} đến thư mục rỗng là {folder_name}')\n",
    "                \n",
    "\n",
    "                # Sau khi di chuyển xong file, loại bỏ file từ danh sách để tránh di chuyển lại\n",
    "                continue\n",
    "\n"
   ]
  },
  {
   "cell_type": "code",
   "execution_count": null,
   "metadata": {},
   "outputs": [],
   "source": []
  }
 ],
 "metadata": {
  "kernelspec": {
   "display_name": "Python 3",
   "language": "python",
   "name": "python3"
  },
  "language_info": {
   "codemirror_mode": {
    "name": "ipython",
    "version": 3
   },
   "file_extension": ".py",
   "mimetype": "text/x-python",
   "name": "python",
   "nbconvert_exporter": "python",
   "pygments_lexer": "ipython3",
   "version": "3.12.3"
  }
 },
 "nbformat": 4,
 "nbformat_minor": 2
}
